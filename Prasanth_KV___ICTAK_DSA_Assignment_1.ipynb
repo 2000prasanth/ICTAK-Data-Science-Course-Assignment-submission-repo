{
  "nbformat": 4,
  "nbformat_minor": 0,
  "metadata": {
    "colab": {
      "provenance": []
    },
    "kernelspec": {
      "name": "python3",
      "display_name": "Python 3"
    },
    "language_info": {
      "name": "python"
    }
  },
  "cells": [
    {
      "cell_type": "code",
      "execution_count": 4,
      "metadata": {
        "id": "HIgRTfzCTduJ"
      },
      "outputs": [],
      "source": [
        "import pandas as pd\n",
        "import matplotlib as plt"
      ]
    },
    {
      "cell_type": "code",
      "source": [
        "!pip install xlrd"
      ],
      "metadata": {
        "colab": {
          "base_uri": "https://localhost:8080/"
        },
        "id": "bHIE9mAVT38c",
        "outputId": "6edd41dd-57b3-45f4-b1ef-5784d0996c89"
      },
      "execution_count": 2,
      "outputs": [
        {
          "output_type": "stream",
          "name": "stdout",
          "text": [
            "Looking in indexes: https://pypi.org/simple, https://us-python.pkg.dev/colab-wheels/public/simple/\n",
            "Requirement already satisfied: xlrd in /usr/local/lib/python3.9/dist-packages (2.0.1)\n"
          ]
        }
      ]
    },
    {
      "cell_type": "markdown",
      "source": [
        "1. Read the dataset to python environment."
      ],
      "metadata": {
        "id": "eGqOfNwgUqIO"
      }
    },
    {
      "cell_type": "code",
      "source": [
        "t1 = pd.read_excel(\"iris.xls\")\n",
        "print(t1)"
      ],
      "metadata": {
        "colab": {
          "base_uri": "https://localhost:8080/"
        },
        "id": "gPYXGDujUYv8",
        "outputId": "b16386af-6344-4987-92ed-7b8c19acc59a"
      },
      "execution_count": 5,
      "outputs": [
        {
          "output_type": "stream",
          "name": "stdout",
          "text": [
            "      SL   SW   PL   PW  Classification\n",
            "0    5.1  3.5  1.4  0.2     Iris-setosa\n",
            "1    4.9  3.0  1.4  0.2     Iris-setosa\n",
            "2    4.7  3.2  1.3  0.2     Iris-setosa\n",
            "3    4.6  3.1  1.5  0.2     Iris-setosa\n",
            "4    5.0  3.6  1.4  0.2     Iris-setosa\n",
            "..   ...  ...  ...  ...             ...\n",
            "145  6.7  3.0  5.2  2.3  Iris-virginica\n",
            "146  6.3  2.5  5.0  1.9  Iris-virginica\n",
            "147  6.5  3.0  5.2  2.0  Iris-virginica\n",
            "148  6.2  3.4  5.4  2.3  Iris-virginica\n",
            "149  5.9  3.0  5.1  1.8  Iris-virginica\n",
            "\n",
            "[150 rows x 5 columns]\n"
          ]
        }
      ]
    },
    {
      "cell_type": "markdown",
      "source": [
        "2. Display the columns in the dataset"
      ],
      "metadata": {
        "id": "OnnOiJTQUte-"
      }
    },
    {
      "cell_type": "code",
      "source": [
        "print(t1.columns)"
      ],
      "metadata": {
        "colab": {
          "base_uri": "https://localhost:8080/"
        },
        "id": "nap2HBZ9UntI",
        "outputId": "271c6f36-e3f6-4103-c6a9-47a0b82de85b"
      },
      "execution_count": 6,
      "outputs": [
        {
          "output_type": "stream",
          "name": "stdout",
          "text": [
            "Index(['SL', 'SW', 'PL', 'PW', 'Classification'], dtype='object')\n"
          ]
        }
      ]
    },
    {
      "cell_type": "markdown",
      "source": [
        "3.  Calculate the mean of each column of the dataset."
      ],
      "metadata": {
        "id": "W4yHDnTWWHBd"
      }
    },
    {
      "cell_type": "code",
      "source": [
        "mean=t1.mean()\n",
        "print(mean)"
      ],
      "metadata": {
        "colab": {
          "base_uri": "https://localhost:8080/"
        },
        "id": "Q0-uEAQ1WD98",
        "outputId": "4c6c1441-9f4a-4e08-9b90-118dcb270473"
      },
      "execution_count": 7,
      "outputs": [
        {
          "output_type": "stream",
          "name": "stdout",
          "text": [
            "SL    5.843333\n",
            "SW    3.054000\n",
            "PL    3.758667\n",
            "PW    1.198667\n",
            "dtype: float64\n"
          ]
        },
        {
          "output_type": "stream",
          "name": "stderr",
          "text": [
            "<ipython-input-7-03e6701fb367>:1: FutureWarning: Dropping of nuisance columns in DataFrame reductions (with 'numeric_only=None') is deprecated; in a future version this will raise TypeError.  Select only valid columns before calling the reduction.\n",
            "  mean=t1.mean()\n"
          ]
        }
      ]
    },
    {
      "cell_type": "markdown",
      "source": [
        "4. Check for the null values present in the dataset"
      ],
      "metadata": {
        "id": "qqn_vMMeWtPg"
      }
    },
    {
      "cell_type": "code",
      "source": [
        "null_val=t1.isnull().sum()\n",
        "print(null_val)"
      ],
      "metadata": {
        "colab": {
          "base_uri": "https://localhost:8080/"
        },
        "id": "jhzGys2WWoe3",
        "outputId": "d2df2b58-fc86-4822-b92c-54bbbf6b3d56"
      },
      "execution_count": 8,
      "outputs": [
        {
          "output_type": "stream",
          "name": "stdout",
          "text": [
            "SL                0\n",
            "SW                0\n",
            "PL                0\n",
            "PW                0\n",
            "Classification    0\n",
            "dtype: int64\n"
          ]
        }
      ]
    },
    {
      "cell_type": "markdown",
      "source": [
        "No Null values found"
      ],
      "metadata": {
        "id": "gTT3pmR7d0jG"
      }
    },
    {
      "cell_type": "markdown",
      "source": [
        "5. Perform meaningful visualizations using the dataset. Bring at least 3\n",
        "visualizations."
      ],
      "metadata": {
        "id": "Ddde3PM9XRvZ"
      }
    },
    {
      "cell_type": "code",
      "source": [
        "#1 count of different species in classificaion\n",
        "import matplotlib.pyplot as plt\n",
        "counts = t1['Classification'].value_counts()\n",
        "\n",
        "# create a bar chart\n",
        "plt.bar(counts.index, counts.values)\n",
        "plt.title('')\n",
        "plt.xlabel('IteClassification of Iris-abc')\n",
        "plt.ylabel('Count')\n",
        "plt.show()\n",
        "\n",
        "\n"
      ],
      "metadata": {
        "colab": {
          "base_uri": "https://localhost:8080/",
          "height": 279
        },
        "id": "Mf_FyCIEW-rr",
        "outputId": "c32f4f5d-c8ad-41af-e02c-81d4594da401"
      },
      "execution_count": 19,
      "outputs": [
        {
          "output_type": "display_data",
          "data": {
            "text/plain": [
              "<Figure size 432x288 with 1 Axes>"
            ],
            "image/png": "[encoded data removed]"
          },
          "metadata": {
            "needs_background": "light"
          }
        }
      ]
    },
    {
      "cell_type": "markdown",
      "source": [
        "50 samples of all the 3 species is taken"
      ],
      "metadata": {
        "id": "tRfvYmQ0eAcW"
      }
    },
    {
      "cell_type": "code",
      "source": [
        "# Compariosn of petel length  to petel width\n",
        "import seaborn as sns\n",
        "sns.scatterplot(x='PL', y='PW',\n",
        "                hue='Classification', data=t1, )"
      ],
      "metadata": {
        "colab": {
          "base_uri": "https://localhost:8080/",
          "height": 296
        },
        "id": "2cM4DS1IZYpE",
        "outputId": "6d836bae-d291-4d14-e27a-fd0e72ab7bdc"
      },
      "execution_count": 16,
      "outputs": [
        {
          "output_type": "execute_result",
          "data": {
            "text/plain": [
              "<AxesSubplot:xlabel='PL', ylabel='PW'>"
            ]
          },
          "metadata": {},
          "execution_count": 16
        },
        {
          "output_type": "display_data",
          "data": {
            "text/plain": [
              "<Figure size 432x288 with 1 Axes>"
            ],
            "image/png": "[encoded data removed]"
          },
          "metadata": {
            "needs_background": "light"
          }
        }
      ]
    },
    {
      "cell_type": "code",
      "source": [
        "#outlier the values which deviate significantly for SW(spal width)\n",
        "sns.boxplot(x='SW', data=t1)\n",
        "\n",
        "\n"
      ],
      "metadata": {
        "colab": {
          "base_uri": "https://localhost:8080/",
          "height": 296
        },
        "id": "h6VhtTZZcGPL",
        "outputId": "06ed8429-bf10-40a2-9e01-b285a942d99e"
      },
      "execution_count": 18,
      "outputs": [
        {
          "output_type": "execute_result",
          "data": {
            "text/plain": [
              "<AxesSubplot:xlabel='SW'>"
            ]
          },
          "metadata": {},
          "execution_count": 18
        },
        {
          "output_type": "display_data",
          "data": {
            "text/plain": [
              "<Figure size 432x288 with 1 Axes>"
            ],
            "image/png": "[encoded data removed]"
          },
          "metadata": {
            "needs_background": "light"
          }
        }
      ]
    },
    {
      "cell_type": "markdown",
      "source": [
        "Outlier values =2 and 4"
      ],
      "metadata": {
        "id": "BlsXnmLrdnnN"
      }
    }
  ]
}